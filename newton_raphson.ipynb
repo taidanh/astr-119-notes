{
 "cells": [
  {
   "cell_type": "code",
   "execution_count": null,
   "metadata": {},
   "outputs": [],
   "source": [
    "%matplotlib inline\n",
    "import numpy as np\n",
    "import matplotlib.pyplot as plt"
   ]
  },
  {
   "cell_type": "code",
   "execution_count": null,
   "metadata": {},
   "outputs": [],
   "source": [
    "def function_for_root(x):\n",
    "    a = 1.01\n",
    "    b = -3.04\n",
    "    c = 2.07\n",
    "    return a * x**2 + b * x + c"
   ]
  },
  {
   "cell_type": "code",
   "execution_count": null,
   "metadata": {},
   "outputs": [],
   "source": [
    "def derivative_for_root(x):\n",
    "    a = 1.01\n",
    "    b = -3.04\n",
    "    return 2*a*x + b"
   ]
  },
  {
   "cell_type": "code",
   "execution_count": null,
   "metadata": {},
   "outputs": [],
   "source": [
    "def newton_raphson_root_finding(f, dfdx, x_start, tol):\n",
    "    \n",
    "    # set a flag\n",
    "    flag = 1\n",
    "    \n",
    "    # set max iterations\n",
    "    imax = 10000\n",
    "\n",
    "    i = 0\n",
    "    \n",
    "    # define new and old guesses\n",
    "    x_old = x_start\n",
    "    x_new = 0.0\n",
    "    y_new = 0.0\n",
    "    \n",
    "    xarr = np.linspace(0,1.5,10000)\n",
    "        \n",
    "    # start the loop\n",
    "    while flag:\n",
    "        \n",
    "        # make new guess\n",
    "        x_new = x_old - f(x_old)/dfdx(x_old)\n",
    "        \n",
    "        # print out the iterations\n",
    "        print(x_new, x_old, f(x_old), dfdx(x_old))\n",
    "        \n",
    "        # if abs of new func is < tol, then stop\n",
    "        y_new = f(x_new)\n",
    "        if np.fabs(y_new) < tol:\n",
    "            flag = 0\n",
    "        else:\n",
    "            \n",
    "            yarr = f(xarr)\n",
    "            plt.plot(xarr,yarr)\n",
    "            plt.xlim([0,1.5])\n",
    "            plt.ylim([-0.2, 2])\n",
    "            \n",
    "            xapprox = np.linspace(x_old,x_new,1000)\n",
    "            yapprox = f(x_old) + dfdx(x_old) * (xapprox-x_old)\n",
    "            plt.plot(xapprox,yapprox)\n",
    "            plt.show()\n",
    "            # save the result\n",
    "            x_old = x_new\n",
    "            # increment\n",
    "            i += 1\n",
    "        \n",
    "    if i > imax:\n",
    "        print(\"Max iterations reached\")\n",
    "        raise StopIteration(\"Stopping iterations after \", i)\n",
    "        \n",
    "    \n",
    "    # done!\n",
    "    return x_new"
   ]
  },
  {
   "cell_type": "code",
   "execution_count": null,
   "metadata": {},
   "outputs": [],
   "source": [
    "x_start = 0.5\n",
    "tolerance = 1.0e-6\n",
    "\n",
    "# print initial guess\n",
    "print(x_start, function_for_root(x_start))\n",
    "\n",
    "x_root = newton_raphson_root_finding(function_for_root,derivative_for_root,x_start,tolerance)\n",
    "y_root = function_for_root(x_root)\n",
    "\n",
    "s = \"Root found with y(%f) = %f\" % (x_root,y_root)\n",
    "print(s)"
   ]
  },
  {
   "cell_type": "code",
   "execution_count": null,
   "metadata": {},
   "outputs": [],
   "source": []
  }
 ],
 "metadata": {
  "kernelspec": {
   "display_name": "Python 3",
   "language": "python",
   "name": "python3"
  },
  "language_info": {
   "codemirror_mode": {
    "name": "ipython",
    "version": 3
   },
   "file_extension": ".py",
   "mimetype": "text/x-python",
   "name": "python",
   "nbconvert_exporter": "python",
   "pygments_lexer": "ipython3",
   "version": "3.8.6"
  }
 },
 "nbformat": 4,
 "nbformat_minor": 4
}
